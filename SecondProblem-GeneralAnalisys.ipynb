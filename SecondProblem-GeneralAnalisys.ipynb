{
 "cells": [
  {
   "cell_type": "markdown",
   "metadata": {},
   "source": [
    "Second Problem - The ARX Model"
   ]
  },
  {
   "cell_type": "markdown",
   "metadata": {},
   "source": [
    "    LOAD THE DATA"
   ]
  },
  {
   "cell_type": "code",
   "execution_count": 1,
   "metadata": {},
   "outputs": [],
   "source": [
    "import numpy as np\n",
    "from sklearn.linear_model import LinearRegression\n",
    "\n",
    "train_u = np.load(\"u_train.npy\")\n",
    "train_y = np.load(\"output_train.npy\")\n",
    "test_u = np.load(\"u_test.npy\")"
   ]
  },
  {
   "cell_type": "markdown",
   "metadata": {},
   "source": [
    "    Creation of the X matrix"
   ]
  },
  {
   "cell_type": "code",
   "execution_count": 3,
   "metadata": {},
   "outputs": [],
   "source": [
    "import numpy as np\n",
    "\n",
    "def X_matrix_creation(n,m,d,train_u,train_y):\n",
    "\n",
    "    p = max(n, m + d)\n",
    "\n",
    "    N = len(train_u)\n",
    "\n",
    "    X_matrix = []\n",
    "\n",
    "    def create_phi_matrix(k, n, m):\n",
    "\n",
    "        y_theta = train_y[k-n:k]  \n",
    "        y_theta = y_theta[::-1]  \n",
    "\n",
    "        u_theta = train_u[k-d-m:k-d+1] \n",
    "        u_theta = u_theta[::-1] \n",
    "    \n",
    "        phi = np.concatenate((y_theta, u_theta))\n",
    "\n",
    "        return phi\n",
    "\n",
    "    for k in range(p, N):  \n",
    "        phi_matrix = create_phi_matrix(k, n, m)\n",
    "        X_matrix.append(phi_matrix) \n",
    "\n",
    "    X_matrix = np.array(X_matrix)\n",
    "\n",
    "    return X_matrix\n"
   ]
  },
  {
   "cell_type": "markdown",
   "metadata": {},
   "source": [
    "    Creation of the Y matrix"
   ]
  },
  {
   "cell_type": "code",
   "execution_count": 4,
   "metadata": {},
   "outputs": [],
   "source": [
    "def Y_matrix_creation(n,m,d,train_y):\n",
    "\n",
    "    p = max(n,m+d)\n",
    "    N = len(train_u)\n",
    "    \n",
    "    Y_matrix = []\n",
    "\n",
    "    for k in range(p,N):\n",
    "        y_p = np.array(train_y[k]) \n",
    "    \n",
    "        Y_matrix = np.append(Y_matrix,y_p) \n",
    "\n",
    "    Y_matrix = np.array(Y_matrix).reshape(-1, 1) \n",
    "\n",
    "    return Y_matrix\n",
    "    "
   ]
  },
  {
   "cell_type": "markdown",
   "metadata": {},
   "source": [
    "    Y Predict Generator"
   ]
  },
  {
   "cell_type": "code",
   "execution_count": 5,
   "metadata": {},
   "outputs": [],
   "source": [
    "import numpy as np\n",
    "\n",
    "def create_phi_test(i, n, d, m, y_test, test_u):\n",
    "\n",
    "    phi = []\n",
    "\n",
    "    y_end_index = i - 1\n",
    "    y_initial_index = i - n\n",
    "\n",
    "    x_end_index = i - d\n",
    "    x_initial_index = i - d - m\n",
    "\n",
    "    for j in range(y_initial_index, y_end_index + 1):\n",
    "        if j > 0:\n",
    "            phi.append(y_test[j])\n",
    "        else:\n",
    "            phi.append(0)\n",
    "\n",
    "    phi = phi[::-1] \n",
    "\n",
    "    for j in range (x_end_index + 1, x_initial_index,-1):\n",
    "        if j >= 0:\n",
    "            phi.append(test_u[j])\n",
    "        else:\n",
    "            phi.append(0)\n",
    "\n",
    "    return phi\n",
    "\n",
    "def y_predict_generator(model, X_matrix, n, m, d, test_u):\n",
    "    \n",
    "    N = len(test_u)\n",
    "    p = max(n,m+d)\n",
    "    theta_matrix = model.coef_\n",
    "\n",
    "    y_test = [] \n",
    "\n",
    "    for i in range(0,N-1):\n",
    "\n",
    "        if i < d:\n",
    "            y_test.append(0)\n",
    "        else:\n",
    "            phi_test_vector = create_phi_test(i, n, d, m, y_test, test_u)\n",
    "\n",
    "            phi_test_matrix = np.array(phi_test_vector).reshape(1, -1)\n",
    "\n",
    "            y_pred = np.dot(phi_test_matrix, theta_matrix.T) + model.intercept_\n",
    "\n",
    "            y_test.append(float(y_pred[0]))\n",
    "\n",
    "\n",
    "    comparison_matrix = np.column_stack((train_y[-400:], y_test[-400:]))\n",
    "\n",
    "    # Salvar a matriz comparativa em um arquivo .npy\n",
    "    np.save(\"comparison_matrix.npy\", comparison_matrix)\n",
    "\n",
    "    return y_test[-400:]\n",
    "\n",
    "\n",
    "\n",
    "\n"
   ]
  },
  {
   "cell_type": "markdown",
   "metadata": {},
   "source": [
    "    Best n,m,d parameters"
   ]
  },
  {
   "cell_type": "code",
   "execution_count": null,
   "metadata": {},
   "outputs": [],
   "source": [
    "import numpy as np\n",
    "from sklearn.linear_model import Ridge\n",
    "\n",
    "def tune_ridge_model(X_matrix, Y_matrix):\n",
    "   \n",
    "    alpha_values = np.arange(1e-5, 1, 0.01) \n",
    "    best_sse = float('inf')\n",
    "    best_alpha = None\n",
    "    best_model = None\n",
    "\n",
    "    for value in alpha_values:\n",
    "        ridge_model = Ridge(alpha=value).fit(X_matrix, Y_matrix.ravel())\n",
    "        y_pred = ridge_model.predict(X_matrix)\n",
    "\n",
    "        sse = np.sum((Y_matrix.ravel() - y_pred) ** 2)\n",
    "\n",
    "        if sse < best_sse:\n",
    "            best_sse = sse\n",
    "            best_alpha = value\n",
    "            best_model = ridge_model\n",
    "\n",
    "    return best_model, best_alpha, best_sse\n",
    "\n",
    "best_sse = float('inf')\n",
    "best_params = None\n",
    "best_model = None\n",
    "\n",
    "for n in range(1, 10):\n",
    "    for m in range(1, 10):\n",
    "        for d in range(1, 10):\n",
    "   \n",
    "            X_matrix = X_matrix_creation(n, m, d, train_u, train_y)\n",
    "            Y_matrix = Y_matrix_creation(n, m, d, train_y)\n",
    "\n",
    "            model, alpha, sse = tune_ridge_model(X_matrix, Y_matrix)\n",
    "\n",
    "            if sse < best_sse:\n",
    "                best_alpha = alpha\n",
    "                best_sse = sse\n",
    "                best_params = (n, m, d)\n",
    "                best_model = model\n",
    "\n",
    "print(f\"Best parameters (n, m, d): {best_params}\")\n",
    "print(f\"Best SSE: {best_sse}\")\n"
   ]
  },
  {
   "cell_type": "markdown",
   "metadata": {},
   "source": [
    "    1.4.7 Evaluation Model"
   ]
  },
  {
   "cell_type": "code",
   "execution_count": 6,
   "metadata": {},
   "outputs": [],
   "source": [
    "from sklearn.metrics import mean_absolute_error, mean_squared_error, r2_score\n",
    "import pandas as pd\n",
    "\n",
    "def evaluate_model(y_predicted,train_y,model,p,evaluation_df=None):\n",
    "\n",
    "    flag = False\n",
    "\n",
    "    if evaluation_df is None:\n",
    "        best_sse = float('inf')\n",
    "        evaluation_df = pd.DataFrame(columns=['Model', 'MSE', 'MAE', 'R²', 'SSE'])\n",
    "        flag = True\n",
    "\n",
    "    mse = mean_squared_error(train_y[-400:], y_predicted)\n",
    "    mae = mean_absolute_error(train_y[-400:], y_predicted)\n",
    "    r2 = r2_score(train_y[-400:], y_predicted)\n",
    "    sse = np.sum((train_y[-400:] - y_predicted) ** 2)\n",
    "\n",
    "    new_row = pd.DataFrame({\n",
    "        'Model': [model],\n",
    "        'MSE': [mse],\n",
    "        'MAE': [mae],\n",
    "        'R²': [r2],\n",
    "        'SSE': [sse]\n",
    "    })\n",
    "    \n",
    "    if flag:\n",
    "        evaluation_df = new_row\n",
    "    else:\n",
    "        evaluation_df = pd.concat([evaluation_df, new_row], ignore_index=True)\n",
    "        \n",
    "    return evaluation_df\n"
   ]
  },
  {
   "cell_type": "markdown",
   "metadata": {},
   "source": [
    "    1.4.8 Main Cycle"
   ]
  },
  {
   "cell_type": "code",
   "execution_count": null,
   "metadata": {},
   "outputs": [],
   "source": [
    "from sklearn.linear_model import Lasso, Ridge\n",
    "from sklearn.model_selection import TimeSeriesSplit\n",
    "from sklearn.linear_model import ElasticNet \n",
    "import matplotlib.pyplot as plt\n",
    "import numpy as np\n",
    "import warnings\n",
    "from sklearn.exceptions import ConvergenceWarning \n",
    "\n",
    "warnings.filterwarnings(\"ignore\", category=DeprecationWarning)\n",
    "warnings.filterwarnings(\"ignore\", category=ConvergenceWarning)\n",
    "\n",
    "n = 9\n",
    "m = 9\n",
    "d = 6\n",
    "p = max(n, m, d)\n",
    "\n",
    "# X and Y matrix creation\n",
    "X_matrix = X_matrix_creation(n, m, d, train_u, train_y)\n",
    "Y_matrix = Y_matrix_creation(n, m, d, train_y)\n",
    "\n",
    "# linear regression\n",
    "linear_model = LinearRegression().fit(X_matrix, Y_matrix)\n",
    "y_linear = y_predict_generator(linear_model, X_matrix, n, m, d, train_u)\n",
    "df_linear = evaluate_model(y_linear, train_y, 'Lin. regr.', p, None)\n",
    "\n",
    "# lasso\n",
    "lasso_model = Lasso(alpha=0.000000000001).fit(X_matrix, Y_matrix)\n",
    "y_lasso = y_predict_generator(lasso_model, X_matrix, n, m, d, train_u)\n",
    "df_lasso = evaluate_model(y_lasso, train_y, 'Lasso', p, df_linear) \n",
    "\n",
    "# Ridge\n",
    "ridge_model = Ridge(alpha=0.01)\n",
    "ridge_model.fit(X_matrix, Y_matrix)\n",
    "y_ridge = y_predict_generator(ridge_model, X_matrix, n, m, d, train_u)\n",
    "df_ridge = evaluate_model(y_ridge, train_y, 'Ridge', p, df_lasso) \n",
    "\n",
    "# ElasticNet combines L1 and L2 regularization\n",
    "elastic_net = ElasticNet(alpha=0.000001, l1_ratio=0.7)  \n",
    "elastic_net.fit(X_matrix, Y_matrix)\n",
    "y_elasticnet = y_predict_generator(elastic_net, X_matrix, n, m, d, train_u)\n",
    "df_elasticnet = evaluate_model(y_elasticnet, train_y, 'Elasticnet', p, df_ridge) \n",
    "\n",
    "print(df_elasticnet)"
   ]
  },
  {
   "cell_type": "markdown",
   "metadata": {},
   "source": [
    "    Plot"
   ]
  },
  {
   "cell_type": "code",
   "execution_count": null,
   "metadata": {},
   "outputs": [],
   "source": [
    "N = len(train_u)\n",
    "y_best_prediction = y_lasso\n",
    "\n",
    "print(len(train_y[-400:]))\n",
    "print(len(y_lasso))\n",
    "\n",
    "train_y_sliced = train_y[-400:]\n",
    "lasso_sliced = y_best_prediction\n",
    "\n",
    "# Criar o gráfico\n",
    "plt.figure(figsize=(10, 6))\n",
    "\n",
    "# Plotar train_y\n",
    "plt.plot(train_y_sliced, label='Train Y', color='blue')\n",
    "\n",
    "# Plotar lasso\n",
    "plt.plot(lasso_sliced, label='Lasso Prediction', color='red')\n",
    "\n",
    "# Adicionar título e rótulos\n",
    "plt.title('Comparison Between Train Y and Lasso Prediction')\n",
    "plt.xlabel('Samples')\n",
    "plt.ylabel('Values')\n",
    "\n",
    "# Adicionar legenda\n",
    "plt.legend()\n",
    "\n",
    "# Mostrar o gráfico\n",
    "plt.show()"
   ]
  }
 ],
 "metadata": {
  "kernelspec": {
   "display_name": "Python 3",
   "language": "python",
   "name": "python3"
  },
  "language_info": {
   "codemirror_mode": {
    "name": "ipython",
    "version": 3
   },
   "file_extension": ".py",
   "mimetype": "text/x-python",
   "name": "python",
   "nbconvert_exporter": "python",
   "pygments_lexer": "ipython3",
   "version": "3.12.6"
  }
 },
 "nbformat": 4,
 "nbformat_minor": 2
}
