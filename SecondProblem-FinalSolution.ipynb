{
 "cells": [
  {
   "cell_type": "markdown",
   "metadata": {},
   "source": [
    "Load Data"
   ]
  },
  {
   "cell_type": "code",
   "execution_count": 1,
   "metadata": {},
   "outputs": [],
   "source": [
    "import numpy as np\n",
    "from sklearn.linear_model import LinearRegression\n",
    "\n",
    "train_u = np.load(\"u_train.npy\")\n",
    "train_y = np.load(\"output_train.npy\")\n",
    "test_u = np.load(\"u_test.npy\")"
   ]
  },
  {
   "cell_type": "markdown",
   "metadata": {},
   "source": [
    "Creation of X matrix"
   ]
  },
  {
   "cell_type": "code",
   "execution_count": 2,
   "metadata": {},
   "outputs": [],
   "source": [
    "import numpy as np\n",
    "\n",
    "def X_matrix_creation(n,m,d,train_u,train_y):\n",
    "\n",
    "    p = max(n, m + d)\n",
    "\n",
    "    N = len(train_u)\n",
    "\n",
    "    X_matrix = []\n",
    "\n",
    "    def create_phi_matrix(k, n, m):\n",
    "\n",
    "        y_theta = train_y[k-n:k]  \n",
    "        y_theta = y_theta[::-1]  \n",
    "\n",
    "        u_theta = train_u[k-d-m:k-d+1] \n",
    "        u_theta = u_theta[::-1] \n",
    "    \n",
    "        phi = np.concatenate((y_theta, u_theta))\n",
    "\n",
    "        return phi\n",
    "\n",
    "    for k in range(p, N):  \n",
    "        phi_matrix = create_phi_matrix(k, n, m)\n",
    "        X_matrix.append(phi_matrix) \n",
    "\n",
    "    X_matrix = np.array(X_matrix)\n",
    "\n",
    "    return X_matrix\n"
   ]
  },
  {
   "cell_type": "markdown",
   "metadata": {},
   "source": [
    "Creation of the Y matrix"
   ]
  },
  {
   "cell_type": "code",
   "execution_count": 3,
   "metadata": {},
   "outputs": [],
   "source": [
    "def Y_matrix_creation(n,m,d,train_y):\n",
    "\n",
    "    p = max(n,m+d)\n",
    "    N = len(train_u)\n",
    "    \n",
    "    Y_matrix = []\n",
    "\n",
    "    for k in range(p,N):\n",
    "        y_p = np.array(train_y[k]) \n",
    "    \n",
    "        Y_matrix = np.append(Y_matrix,y_p) \n",
    "\n",
    "    Y_matrix = np.array(Y_matrix).reshape(-1, 1) \n",
    "\n",
    "    return Y_matrix\n",
    "    "
   ]
  },
  {
   "cell_type": "markdown",
   "metadata": {},
   "source": [
    "Y test Generator"
   ]
  },
  {
   "cell_type": "code",
   "execution_count": 4,
   "metadata": {},
   "outputs": [],
   "source": [
    "import numpy as np\n",
    "\n",
    "def create_phi_test(i, n, d, m, y_test, test_u):\n",
    "\n",
    "    phi = []\n",
    "\n",
    "    y_end_index = i - 1\n",
    "    y_initial_index = i - n\n",
    "\n",
    "    x_end_index = i - d\n",
    "    x_initial_index = i - d - m\n",
    "\n",
    "    for j in range(y_initial_index, y_end_index + 1):\n",
    "        if j > 0:\n",
    "            phi.append(y_test[j])\n",
    "        else:\n",
    "            phi.append(0)\n",
    "\n",
    "    phi = phi[::-1] \n",
    "\n",
    "    for j in range (x_end_index + 1, x_initial_index,-1):\n",
    "        if j >= 0:\n",
    "            phi.append(test_u[j])\n",
    "        else:\n",
    "            phi.append(0)\n",
    "\n",
    "    return phi\n",
    "\n",
    "def y_predict_generator(model, X_matrix, n, m, d, test_u):\n",
    "    \n",
    "    N = len(test_u)\n",
    "    theta_matrix = model.coef_\n",
    "\n",
    "    y_test = [] \n",
    "\n",
    "    for i in range(0,N-1):\n",
    "\n",
    "        if i < d:\n",
    "            y_test.append(0)\n",
    "        else:\n",
    "            phi_test_vector = create_phi_test(i, n, d, m, y_test, test_u)\n",
    "\n",
    "            phi_test_matrix = np.array(phi_test_vector).reshape(1, -1)\n",
    "\n",
    "            y_pred = np.dot(phi_test_matrix, theta_matrix.T) + model.intercept_\n",
    "\n",
    "            y_test.append(float(y_pred[0]))\n",
    "    \n",
    "    return y_test[-400:]\n"
   ]
  },
  {
   "cell_type": "markdown",
   "metadata": {},
   "source": [
    "Main "
   ]
  },
  {
   "cell_type": "code",
   "execution_count": null,
   "metadata": {},
   "outputs": [],
   "source": [
    "from sklearn.linear_model import Lasso, Ridge\n",
    "\n",
    "n = 9\n",
    "m = 9\n",
    "d = 6\n",
    "p = max(n, m, d)\n",
    "N = len(test_u)\n",
    "\n",
    "# X and Y matrix creation\n",
    "X_matrix = X_matrix_creation(n, m, d, train_u, train_y)\n",
    "Y_matrix = Y_matrix_creation(n, m, d, train_y)\n",
    "\n",
    "# lasso \n",
    "lasso_model = Lasso(alpha=0.000000001).fit(X_matrix, Y_matrix)\n",
    "y_lasso = y_predict_generator(lasso_model, X_matrix, n, m, d, test_u)\n",
    "\n",
    "print(len(test_u))\n",
    "print(len(y_lasso))\n",
    "\n",
    "np.save('y_test.npy', y_lasso)\n"
   ]
  }
 ],
 "metadata": {
  "kernelspec": {
   "display_name": "Python 3",
   "language": "python",
   "name": "python3"
  },
  "language_info": {
   "codemirror_mode": {
    "name": "ipython",
    "version": 3
   },
   "file_extension": ".py",
   "mimetype": "text/x-python",
   "name": "python",
   "nbconvert_exporter": "python",
   "pygments_lexer": "ipython3",
   "version": "3.12.6"
  }
 },
 "nbformat": 4,
 "nbformat_minor": 2
}
